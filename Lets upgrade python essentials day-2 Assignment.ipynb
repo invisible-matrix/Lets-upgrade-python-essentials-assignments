{
 "cells": [
  {
   "cell_type": "markdown",
   "metadata": {},
   "source": [
    "# Lets upgrade python essentials day-2 Assignment"
   ]
  },
  {
   "cell_type": "raw",
   "metadata": {},
   "source": []
  },
  {
   "cell_type": "markdown",
   "metadata": {},
   "source": [
    "# Question 1 :\n",
    "      \n",
    "      Try 5 Different functions of the String in Python."
   ]
  },
  {
   "cell_type": "code",
   "execution_count": 11,
   "metadata": {},
   "outputs": [
    {
     "name": "stdout",
     "output_type": "stream",
     "text": [
      "Hello, and welcome to my world.\n",
      "11\n",
      "['hello,', 'and', 'welcome', 'to', 'my', 'world.']\n",
      "False\n",
      "hello, and welcome to my land.\n"
     ]
    }
   ],
   "source": [
    "# fun-1\n",
    "txt = \"hello, and welcome to my world.\"\n",
    "x = txt.capitalize()\n",
    "print (x)\n",
    "# fun-2\n",
    "y = txt.index(\"welcome\")\n",
    "print(y)\n",
    "# fun-3\n",
    "a = txt.split()\n",
    "print(a)\n",
    "# fun-4\n",
    "b = txt.isalpha()     #space is not considered as alphabet\n",
    "print(b)\n",
    "# fun-5\n",
    "z = txt.replace(\"world\", \"land\")\n",
    "print(z)"
   ]
  },
  {
   "cell_type": "markdown",
   "metadata": {},
   "source": []
  },
  {
   "cell_type": "markdown",
   "metadata": {},
   "source": [
    "# Question 2 :\n",
    "      \n",
    "      Try 5 Different functions of the List object in Python"
   ]
  },
  {
   "cell_type": "code",
   "execution_count": 19,
   "metadata": {},
   "outputs": [
    {
     "name": "stdout",
     "output_type": "stream",
     "text": [
      "['apple', 'banana', 'cherry', 'cherry', 'orange']\n",
      "2\n",
      "['apple', 'cherry', 'cherry', 'orange']\n",
      "['orange', 'cherry', 'cherry', 'apple']\n",
      "['orange', 'cherry', 'apple']\n"
     ]
    }
   ],
   "source": [
    "# fun-1\n",
    "fruits = ['apple', 'banana', 'cherry','cherry']\n",
    "fruits.append(\"orange\")\n",
    "print(fruits)\n",
    "# fun-2\n",
    "x=fruits.count(\"cherry\")\n",
    "print(x)\n",
    "# fun-3\n",
    "fruits.remove(\"banana\")\n",
    "print(fruits)\n",
    "# fun-4\n",
    "fruits.reverse()\n",
    "print(fruits)\n",
    "# fun-5\n",
    "fruits.pop(1)\n",
    "print(fruits)"
   ]
  },
  {
   "cell_type": "markdown",
   "metadata": {},
   "source": []
  },
  {
   "cell_type": "markdown",
   "metadata": {},
   "source": [
    "# Question 3 :\n",
    "    \n",
    "    Experiment with at least 5 default functions of Dictionary"
   ]
  },
  {
   "cell_type": "code",
   "execution_count": 24,
   "metadata": {},
   "outputs": [
    {
     "name": "stdout",
     "output_type": "stream",
     "text": [
      "Mustang\n",
      "dict_items([('brand', 'Ford'), ('model', 'Mustang'), ('year', 1964)])\n",
      "{'brand': 'Ford', 'model': 'Mustang', 'year': 1964}\n",
      "dict_values(['Ford', 'Mustang', 1964])\n",
      "{'brand': 'Ford', 'model': 'Mustang', 'year': 1964, 'color': 'White'}\n"
     ]
    }
   ],
   "source": [
    "# fun-1\n",
    "car = {  \"brand\": \"Ford\",  \"model\": \"Mustang\",  \"year\": 1964}\n",
    "x = car.get(\"model\")\n",
    "print(x)\n",
    "# fun-2\n",
    "y = car.items()\n",
    "print(y)\n",
    "# fun-3\n",
    "z = car.copy()\n",
    "print(z)\n",
    "# fun-4\n",
    "a = car.values()\n",
    "print(a)\n",
    "# fun-5\n",
    "car.update({\"color\": \"White\"})\n",
    "print(car)"
   ]
  }
 ],
 "metadata": {
  "kernelspec": {
   "display_name": "Python 3",
   "language": "python",
   "name": "python3"
  },
  "language_info": {
   "codemirror_mode": {
    "name": "ipython",
    "version": 3
   },
   "file_extension": ".py",
   "mimetype": "text/x-python",
   "name": "python",
   "nbconvert_exporter": "python",
   "pygments_lexer": "ipython3",
   "version": "3.8.3"
  }
 },
 "nbformat": 4,
 "nbformat_minor": 4
}
